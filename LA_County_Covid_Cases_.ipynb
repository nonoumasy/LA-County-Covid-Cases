{
  "nbformat": 4,
  "nbformat_minor": 0,
  "metadata": {
    "colab": {
      "name": "LA County Covid Cases .ipynb",
      "provenance": [],
      "collapsed_sections": [
        "c8y3GkQfK4f0"
      ],
      "mount_file_id": "1vZF5YrHsHWBUIbq1rvKif98kbVSXwbih",
      "authorship_tag": "ABX9TyOFqmNmr73RY1kzWuUuTM8p",
      "include_colab_link": true
    },
    "kernelspec": {
      "name": "python3",
      "display_name": "Python 3"
    }
  },
  "cells": [
    {
      "cell_type": "markdown",
      "metadata": {
        "id": "view-in-github",
        "colab_type": "text"
      },
      "source": [
        "<a href=\"https://colab.research.google.com/github/nonoumasy/LA-County-Covid-Cases/blob/master/LA_County_Covid_Cases_.ipynb\" target=\"_parent\"><img src=\"https://colab.research.google.com/assets/colab-badge.svg\" alt=\"Open In Colab\"/></a>"
      ]
    },
    {
      "cell_type": "code",
      "metadata": {
        "id": "yxtsz2ol8qbc",
        "colab_type": "code",
        "colab": {}
      },
      "source": [
        "!pip install gspread oauth2client df2gspread"
      ],
      "execution_count": 0,
      "outputs": []
    },
    {
      "cell_type": "code",
      "metadata": {
        "id": "mFqFvh0--vpI",
        "colab_type": "code",
        "colab": {}
      },
      "source": [
        "import pandas as pd\n",
        "import numpy as np\n",
        "from geopy.geocoders import Nominatim\n",
        "\n",
        "import gspread \n",
        "from oauth2client.service_account import ServiceAccountCredentials\n",
        "from df2gspread import df2gspread as d2g"
      ],
      "execution_count": 0,
      "outputs": []
    },
    {
      "cell_type": "code",
      "metadata": {
        "id": "jni9lZ91-xVV",
        "colab_type": "code",
        "colab": {}
      },
      "source": [
        "# load data from url\n",
        "df = pd.DataFrame(pd.read_html('http://publichealth.lacounty.gov/media/Coronavirus/locations.htm')[0])"
      ],
      "execution_count": 0,
      "outputs": []
    },
    {
      "cell_type": "code",
      "metadata": {
        "id": "VLcTp3ZM-0mf",
        "colab_type": "code",
        "colab": {}
      },
      "source": [
        "# skip rows\n",
        "la_df = df.iloc[28:, :].reset_index(drop=True)\n",
        "\n",
        "# long beach and pasadena\n",
        "lb_df = df.iloc[2:4, :]\n",
        "\n",
        "deaths_df = df.iloc[[0, 5], 0:2]\n",
        "# rename to 'cases' \n",
        "deaths_df.iloc[0, 0] = deaths_df.iloc[0, 0].replace('Laboratory Confirmed Cases (LCC)', 'Cases')"
      ],
      "execution_count": 0,
      "outputs": []
    },
    {
      "cell_type": "code",
      "metadata": {
        "id": "bAJDHGPgsLHh",
        "colab_type": "code",
        "colab": {}
      },
      "source": [
        "def cleanup_df(df):\n",
        "  df.columns = df.columns.str.lower().str.replace(' ', '_')\n",
        "  df.columns = ['locations', 'total_cases', 'rate']\n",
        "\n",
        "  # cleanup values\n",
        "  df.locations = df.locations.str.replace('*', '').str.replace('City of ', '').str.replace('Los Angeles - ', '').str.replace('Unincorporated - ', '').str.replace('-', '').str.strip()\n",
        "  df['total_cases'] = df.total_cases.str.replace('--', '0')\n",
        "  df['rate'] = df.rate.str.replace('--', '0')\n",
        "\n",
        "  # convert to numeric column\n",
        "  df['total_cases'] = pd.to_numeric(df['total_cases'])\n",
        "  df['rate'] = pd.to_numeric(df['rate'])\n",
        "\n",
        "  # drop some rows\n",
        "  df = df[df.locations != 'Los Angeles']\n",
        "  df = df[df.locations != 'Under Investigation']\n",
        "\n",
        "  # split location and keep first value\n",
        "  #df['locations'] = df['locations'].apply(lambda x : x.split('/')[0])\n",
        "\n",
        "  #\n",
        "  df.total_cases.replace(0, np.nan, inplace=True)\n",
        "  df.dropna(subset=['total_cases'], inplace=True)\n",
        "  df.drop_duplicates('locations', inplace=True)\n",
        "  #\n",
        "  df = df.sort_values('locations')\n",
        "\n",
        "  # reset index\n",
        "  df.reset_index(drop=True, inplace=True)\n",
        "\n",
        "  return df"
      ],
      "execution_count": 0,
      "outputs": []
    },
    {
      "cell_type": "code",
      "metadata": {
        "id": "dYY5mpnBr9KF",
        "colab_type": "code",
        "outputId": "fb5895f4-56de-4204-ea35-792ac9aa63f5",
        "colab": {
          "base_uri": "https://localhost:8080/",
          "height": 527
        }
      },
      "source": [
        "la_df = cleanup_df(la_df)\n",
        "lb_df = cleanup_df(lb_df)"
      ],
      "execution_count": 36,
      "outputs": [
        {
          "output_type": "stream",
          "text": [
            "/usr/local/lib/python3.6/dist-packages/pandas/core/generic.py:5303: SettingWithCopyWarning: \n",
            "A value is trying to be set on a copy of a slice from a DataFrame.\n",
            "Try using .loc[row_indexer,col_indexer] = value instead\n",
            "\n",
            "See the caveats in the documentation: https://pandas.pydata.org/pandas-docs/stable/user_guide/indexing.html#returning-a-view-versus-a-copy\n",
            "  self[name] = value\n",
            "/usr/local/lib/python3.6/dist-packages/ipykernel_launcher.py:7: SettingWithCopyWarning: \n",
            "A value is trying to be set on a copy of a slice from a DataFrame.\n",
            "Try using .loc[row_indexer,col_indexer] = value instead\n",
            "\n",
            "See the caveats in the documentation: https://pandas.pydata.org/pandas-docs/stable/user_guide/indexing.html#returning-a-view-versus-a-copy\n",
            "  import sys\n",
            "/usr/local/lib/python3.6/dist-packages/ipykernel_launcher.py:8: SettingWithCopyWarning: \n",
            "A value is trying to be set on a copy of a slice from a DataFrame.\n",
            "Try using .loc[row_indexer,col_indexer] = value instead\n",
            "\n",
            "See the caveats in the documentation: https://pandas.pydata.org/pandas-docs/stable/user_guide/indexing.html#returning-a-view-versus-a-copy\n",
            "  \n",
            "/usr/local/lib/python3.6/dist-packages/ipykernel_launcher.py:11: SettingWithCopyWarning: \n",
            "A value is trying to be set on a copy of a slice from a DataFrame.\n",
            "Try using .loc[row_indexer,col_indexer] = value instead\n",
            "\n",
            "See the caveats in the documentation: https://pandas.pydata.org/pandas-docs/stable/user_guide/indexing.html#returning-a-view-versus-a-copy\n",
            "  # This is added back by InteractiveShellApp.init_path()\n",
            "/usr/local/lib/python3.6/dist-packages/ipykernel_launcher.py:12: SettingWithCopyWarning: \n",
            "A value is trying to be set on a copy of a slice from a DataFrame.\n",
            "Try using .loc[row_indexer,col_indexer] = value instead\n",
            "\n",
            "See the caveats in the documentation: https://pandas.pydata.org/pandas-docs/stable/user_guide/indexing.html#returning-a-view-versus-a-copy\n",
            "  if sys.path[0] == '':\n"
          ],
          "name": "stderr"
        }
      ]
    },
    {
      "cell_type": "code",
      "metadata": {
        "id": "WH5GvD-B_AYz",
        "colab_type": "code",
        "colab": {}
      },
      "source": [
        "# remember to mount Google drive\n",
        "json_path = '/content/drive/My Drive/jupyter-275007-0fd4fe387056.json'\n",
        "\n",
        "# Connect to our service account and open Google Sheet\n",
        "scope = ['https://spreadsheets.google.com/feeds']\n",
        "credentials = ServiceAccountCredentials.from_json_keyfile_name(json_path, scope)\n",
        "gc = gspread.authorize(credentials)\n",
        "\n",
        "spreadsheet_key = '1S7kIiYZlNIROuj00H_qOv1posb8kec_yjk2aIz4QHeM' \n",
        "book = gc.open_by_key(spreadsheet_key) \n",
        "worksheet = book.worksheet('locations') \n",
        "table = worksheet.get_all_values()\n",
        "\n",
        "# Convert table data into a dataframe\n",
        "locations_df = pd.DataFrame(table[1:], columns=table[0])"
      ],
      "execution_count": 0,
      "outputs": []
    },
    {
      "cell_type": "code",
      "metadata": {
        "id": "CLkxFuwF_2zQ",
        "colab_type": "code",
        "colab": {}
      },
      "source": [
        "# merge la and lbf\n",
        "new_df = pd.concat([la_df, lb_df], ignore_index=True)\n",
        "\n",
        "#new_df.drop_duplicates('locations', keep='last', inplace=True)\n",
        "new_df.reset_index(drop=True, inplace=True)\n",
        "\n",
        "# merge with geocoded locations\n",
        "temp_df = new_df.merge(locations_df)"
      ],
      "execution_count": 0,
      "outputs": []
    },
    {
      "cell_type": "code",
      "metadata": {
        "id": "6lZ58k7p_i-Q",
        "colab_type": "code",
        "colab": {
          "base_uri": "https://localhost:8080/",
          "height": 34
        },
        "outputId": "d99e7ec4-1514-4a2e-f606-a8a869e21f1a"
      },
      "source": [
        "# save to Google Sheets\n",
        "\n",
        "spreadsheet_key = '1S7kIiYZlNIROuj00H_qOv1posb8kec_yjk2aIz4QHeM' \n",
        "\n",
        "d2g.upload(temp_df, spreadsheet_key, 'la_county_coronavirus', credentials=credentials, row_names=False)\n",
        "d2g.upload(deaths_df, spreadsheet_key, 'case_deaths', credentials=credentials, row_names=False)"
      ],
      "execution_count": 39,
      "outputs": [
        {
          "output_type": "execute_result",
          "data": {
            "text/plain": [
              "<Worksheet 'case_deaths' id:1930459353>"
            ]
          },
          "metadata": {
            "tags": []
          },
          "execution_count": 39
        }
      ]
    },
    {
      "cell_type": "markdown",
      "metadata": {
        "id": "c8y3GkQfK4f0",
        "colab_type": "text"
      },
      "source": [
        "# Geocode"
      ]
    },
    {
      "cell_type": "code",
      "metadata": {
        "id": "u9H1L92tzhq3",
        "colab_type": "code",
        "colab": {}
      },
      "source": [
        "# prep location for geocoding. Explicitly add ', Los Angeles, California' so the geocoder finds the location\n",
        "\n",
        "def geocode(df):\n",
        "  df['loc_prep'] = 'temp'\n",
        "\n",
        "  for i in range(len(df)):\n",
        "    df['loc_prep'][i] = str(df.ocations[i]) + ', Los Angeles, California'\n",
        "\n",
        "  # create and initialize coords column\n",
        "  df['coords'] = 0.0\n",
        "\n",
        "  # geocode locations\n",
        "  geolocator = Nominatim(user_agent=\"sdfasdf\")\n",
        "\n",
        "  # to space out the geocoding\n",
        "  from geopy.extra.rate_limiter import RateLimiter\n",
        "\n",
        "  geocode = RateLimiter(geolocator.geocode, min_delay_seconds=1)\n",
        "  df['coords'] = df.loc_prep.apply(lambda x : geocode(x))\n",
        "\n",
        "  #\n",
        "  df['lat'] = df.coords.apply(lambda x: x.latitude if x !=None else 0.0)\n",
        "  df['lon'] = df.coords.apply(lambda x: x.longitude if x !=None else 0.0)\n",
        "\n",
        "  return df"
      ],
      "execution_count": 0,
      "outputs": []
    }
  ]
}